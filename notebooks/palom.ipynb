{
 "cells": [
  {
   "cell_type": "code",
   "execution_count": 6,
   "metadata": {},
   "outputs": [],
   "source": [
    "import palom\n",
    "import numpy as np"
   ]
  },
  {
   "cell_type": "code",
   "execution_count": 11,
   "metadata": {},
   "outputs": [],
   "source": [
    "def run_palom(\n",
    "    img_paths,\n",
    "    img_modes,\n",
    "    pixel_size,\n",
    "    channel_names,\n",
    "    output_path,\n",
    "    qc_path,\n",
    "    level\n",
    "):\n",
    "    ref_reader = reader.SvsReader(img_paths[0])\n",
    "    ref_color_proc = color.PyramidHaxProcessor(ref_reader.pyramid)\n",
    "    ref_thumbnail_level = ref_reader.get_thumbnail_level_of_size(2500)\n",
    "\n",
    "    block_affines = []\n",
    "    for idx, p in enumerate(img_paths[1:]):\n",
    "        logger.info(f\"Processing {p.name}\")\n",
    "        if p == img_paths[0]:\n",
    "            block_affines.append(np.eye(3))\n",
    "            continue\n",
    "        moving_reader = reader.SvsReader(p)\n",
    "        moving_color_proc = color.PyramidHaxProcessor(moving_reader.pyramid)\n",
    "        moving_thumbnail_level = moving_reader.get_thumbnail_level_of_size(2500)\n",
    "\n",
    "        aligner = align.Aligner(\n",
    "            ref_color_proc.get_processed_color(level, 'grayscale'),\n",
    "            moving_color_proc.get_processed_color(level, 'grayscale'),\n",
    "            ref_color_proc.get_processed_color(ref_thumbnail_level, 'grayscale').compute(),\n",
    "            moving_color_proc.get_processed_color(moving_thumbnail_level, 'grayscale').compute(),\n",
    "            ref_reader.level_downsamples[ref_thumbnail_level] / ref_reader.level_downsamples[level],\n",
    "            moving_reader.level_downsamples[moving_thumbnail_level] / moving_reader.level_downsamples[level]\n",
    "        )\n",
    "\n",
    "        aligner.coarse_register_affine()\n",
    "        \n",
    "        # FIXME move the saving figure logic \n",
    "        plt.suptitle(f\"L: {ref_reader.path.name}\\nR: {p.name}\")\n",
    "        fig_w = max(plt.gca().get_xlim())\n",
    "        fig_h = max(plt.gca().get_ylim()) + 100\n",
    "        factor = 1600 / max(fig_w, fig_h)\n",
    "        plt.gcf().set_size_inches(fig_w*factor/72, fig_h*factor/72)\n",
    "        plt.tight_layout()\n",
    "        plt.savefig(qc_path / f\"{idx+1:02d}-{p.name}.png\", dpi=72)\n",
    "        plt.close()\n",
    "        \n",
    "        aligner.compute_shifts()\n",
    "        aligner.constrain_shifts()\n",
    "\n",
    "        block_affines.append(aligner.block_affine_matrices_da)\n",
    "    \n",
    "    mosaics = []\n",
    "    m_ref = ref_color_proc.get_processed_color(level=level, mode=img_modes[0])\n",
    "    mosaics.append(m_ref)\n",
    "    for p, m, mx in zip(img_paths[1:], img_modes[1:], block_affines):\n",
    "        moving_color_proc = color.PyramidHaxProcessor(\n",
    "            reader.SvsReader(p).pyramid\n",
    "        )\n",
    "        m_moving = align.block_affine_transformed_moving_img(\n",
    "            ref_color_proc.get_processed_color(level),\n",
    "            moving_color_proc.get_processed_color(level, mode=m),\n",
    "            mx\n",
    "        )\n",
    "        mosaics.append(m_moving)\n",
    "\n",
    "    if pixel_size is None:\n",
    "        pixel_size = ref_reader.pixel_size\n",
    "\n",
    "    pyramid.write_pyramid(\n",
    "        pyramid.normalize_mosaics(mosaics),\n",
    "        output_path,\n",
    "        pixel_size=pixel_size,\n",
    "        channel_names=channel_names\n",
    "    )\n",
    "    return 0\n"
   ]
  },
  {
   "cell_type": "code",
   "execution_count": 12,
   "metadata": {},
   "outputs": [
    {
     "ename": "IndexError",
     "evalue": "list index out of range",
     "output_type": "error",
     "traceback": [
      "\u001b[0;31m---------------------------------------------------------------------------\u001b[0m",
      "\u001b[0;31mIndexError\u001b[0m                                Traceback (most recent call last)",
      "\u001b[1;32m/Users/chiaraschiller/Documents/Schapiro/projects/SignalStar/scripts/github/metadata_formatting/notebooks/palom.ipynb Cell 3\u001b[0m line \u001b[0;36m1\n\u001b[0;32m----> <a href='vscode-notebook-cell:/Users/chiaraschiller/Documents/Schapiro/projects/SignalStar/scripts/github/metadata_formatting/notebooks/palom.ipynb#W1sZmlsZQ%3D%3D?line=0'>1</a>\u001b[0m run_palom_cycif(\n\u001b[1;32m      <a href='vscode-notebook-cell:/Users/chiaraschiller/Documents/Schapiro/projects/SignalStar/scripts/github/metadata_formatting/notebooks/palom.ipynb#W1sZmlsZQ%3D%3D?line=1'>2</a>\u001b[0m     img_paths \u001b[39m=\u001b[39;49m [\n\u001b[1;32m      <a href='vscode-notebook-cell:/Users/chiaraschiller/Documents/Schapiro/projects/SignalStar/scripts/github/metadata_formatting/notebooks/palom.ipynb#W1sZmlsZQ%3D%3D?line=2'>3</a>\u001b[0m         \u001b[39m\"\u001b[39;49m\u001b[39m./../../../../data/Human_squamous_cell_carcinoma_stained_with_SignalStar_mIHC_technology/numpy_stacked_output_uint16.tif\u001b[39;49m\u001b[39m\"\u001b[39;49m\n\u001b[1;32m      <a href='vscode-notebook-cell:/Users/chiaraschiller/Documents/Schapiro/projects/SignalStar/scripts/github/metadata_formatting/notebooks/palom.ipynb#W1sZmlsZQ%3D%3D?line=3'>4</a>\u001b[0m     ],\n\u001b[1;32m      <a href='vscode-notebook-cell:/Users/chiaraschiller/Documents/Schapiro/projects/SignalStar/scripts/github/metadata_formatting/notebooks/palom.ipynb#W1sZmlsZQ%3D%3D?line=4'>5</a>\u001b[0m     pixel_size \u001b[39m=\u001b[39;49m \u001b[39m0.49884663906387205\u001b[39;49m,\n\u001b[1;32m      <a href='vscode-notebook-cell:/Users/chiaraschiller/Documents/Schapiro/projects/SignalStar/scripts/github/metadata_formatting/notebooks/palom.ipynb#W1sZmlsZQ%3D%3D?line=5'>6</a>\u001b[0m     channel_names \u001b[39m=\u001b[39;49m [\u001b[39m'\u001b[39;49m\u001b[39mAlexa 488\u001b[39;49m\u001b[39m'\u001b[39;49m, \u001b[39m'\u001b[39;49m\u001b[39mAlexa 594\u001b[39;49m\u001b[39m'\u001b[39;49m, \u001b[39m'\u001b[39;49m\u001b[39mAlexa 647\u001b[39;49m\u001b[39m'\u001b[39;49m, \u001b[39m'\u001b[39;49m\u001b[39mCy7\u001b[39;49m\u001b[39m'\u001b[39;49m, \u001b[39m'\u001b[39;49m\u001b[39mDAPI\u001b[39;49m\u001b[39m'\u001b[39;49m, \u001b[39m'\u001b[39;49m\u001b[39mAutofluorescence\u001b[39;49m\u001b[39m'\u001b[39;49m],\n\u001b[1;32m      <a href='vscode-notebook-cell:/Users/chiaraschiller/Documents/Schapiro/projects/SignalStar/scripts/github/metadata_formatting/notebooks/palom.ipynb#W1sZmlsZQ%3D%3D?line=6'>7</a>\u001b[0m     output_path \u001b[39m=\u001b[39;49m \u001b[39mr\u001b[39;49m\u001b[39m\"\u001b[39;49m\u001b[39m./../../../../data/Human_squamous_cell_carcinoma_stained_with_SignalStar_mIHC_technology/palom/mosaic.ome.tiff\u001b[39;49m\u001b[39m\"\u001b[39;49m,\n\u001b[1;32m      <a href='vscode-notebook-cell:/Users/chiaraschiller/Documents/Schapiro/projects/SignalStar/scripts/github/metadata_formatting/notebooks/palom.ipynb#W1sZmlsZQ%3D%3D?line=7'>8</a>\u001b[0m     level \u001b[39m=\u001b[39;49m \u001b[39m0\u001b[39;49m\n\u001b[1;32m      <a href='vscode-notebook-cell:/Users/chiaraschiller/Documents/Schapiro/projects/SignalStar/scripts/github/metadata_formatting/notebooks/palom.ipynb#W1sZmlsZQ%3D%3D?line=8'>9</a>\u001b[0m )\n",
      "\u001b[1;32m/Users/chiaraschiller/Documents/Schapiro/projects/SignalStar/scripts/github/metadata_formatting/notebooks/palom.ipynb Cell 3\u001b[0m line \u001b[0;36m5\n\u001b[1;32m     <a href='vscode-notebook-cell:/Users/chiaraschiller/Documents/Schapiro/projects/SignalStar/scripts/github/metadata_formatting/notebooks/palom.ipynb#W1sZmlsZQ%3D%3D?line=44'>45</a>\u001b[0m \u001b[39mif\u001b[39;00m pixel_size \u001b[39mis\u001b[39;00m \u001b[39mNone\u001b[39;00m:\n\u001b[1;32m     <a href='vscode-notebook-cell:/Users/chiaraschiller/Documents/Schapiro/projects/SignalStar/scripts/github/metadata_formatting/notebooks/palom.ipynb#W1sZmlsZQ%3D%3D?line=45'>46</a>\u001b[0m     pixel_size \u001b[39m=\u001b[39m ref_reader\u001b[39m.\u001b[39mpixel_size\n\u001b[1;32m     <a href='vscode-notebook-cell:/Users/chiaraschiller/Documents/Schapiro/projects/SignalStar/scripts/github/metadata_formatting/notebooks/palom.ipynb#W1sZmlsZQ%3D%3D?line=47'>48</a>\u001b[0m palom\u001b[39m.\u001b[39mpyramid\u001b[39m.\u001b[39mwrite_pyramid(\n\u001b[1;32m     <a href='vscode-notebook-cell:/Users/chiaraschiller/Documents/Schapiro/projects/SignalStar/scripts/github/metadata_formatting/notebooks/palom.ipynb#W1sZmlsZQ%3D%3D?line=48'>49</a>\u001b[0m     palom\u001b[39m.\u001b[39mpyramid\u001b[39m.\u001b[39mnormalize_mosaics([\n\u001b[1;32m     <a href='vscode-notebook-cell:/Users/chiaraschiller/Documents/Schapiro/projects/SignalStar/scripts/github/metadata_formatting/notebooks/palom.ipynb#W1sZmlsZQ%3D%3D?line=49'>50</a>\u001b[0m         ref_reader\u001b[39m.\u001b[39mread_level_channels(level, [\u001b[39m0\u001b[39m, \u001b[39m1\u001b[39m, \u001b[39m2\u001b[39m, \u001b[39m3\u001b[39m, \u001b[39m4\u001b[39m, \u001b[39m5\u001b[39m]),\n\u001b[0;32m---> <a href='vscode-notebook-cell:/Users/chiaraschiller/Documents/Schapiro/projects/SignalStar/scripts/github/metadata_formatting/notebooks/palom.ipynb#W1sZmlsZQ%3D%3D?line=50'>51</a>\u001b[0m         mosaics[\u001b[39m0\u001b[39;49m],\n\u001b[1;32m     <a href='vscode-notebook-cell:/Users/chiaraschiller/Documents/Schapiro/projects/SignalStar/scripts/github/metadata_formatting/notebooks/palom.ipynb#W1sZmlsZQ%3D%3D?line=51'>52</a>\u001b[0m         mosaics[\u001b[39m1\u001b[39m]\n\u001b[1;32m     <a href='vscode-notebook-cell:/Users/chiaraschiller/Documents/Schapiro/projects/SignalStar/scripts/github/metadata_formatting/notebooks/palom.ipynb#W1sZmlsZQ%3D%3D?line=52'>53</a>\u001b[0m     ]),\n\u001b[1;32m     <a href='vscode-notebook-cell:/Users/chiaraschiller/Documents/Schapiro/projects/SignalStar/scripts/github/metadata_formatting/notebooks/palom.ipynb#W1sZmlsZQ%3D%3D?line=53'>54</a>\u001b[0m     output_path,\n\u001b[1;32m     <a href='vscode-notebook-cell:/Users/chiaraschiller/Documents/Schapiro/projects/SignalStar/scripts/github/metadata_formatting/notebooks/palom.ipynb#W1sZmlsZQ%3D%3D?line=54'>55</a>\u001b[0m     pixel_size\u001b[39m=\u001b[39mpixel_size,\n\u001b[1;32m     <a href='vscode-notebook-cell:/Users/chiaraschiller/Documents/Schapiro/projects/SignalStar/scripts/github/metadata_formatting/notebooks/palom.ipynb#W1sZmlsZQ%3D%3D?line=55'>56</a>\u001b[0m     channel_names\u001b[39m=\u001b[39mchannel_names\n\u001b[1;32m     <a href='vscode-notebook-cell:/Users/chiaraschiller/Documents/Schapiro/projects/SignalStar/scripts/github/metadata_formatting/notebooks/palom.ipynb#W1sZmlsZQ%3D%3D?line=56'>57</a>\u001b[0m )\n\u001b[1;32m     <a href='vscode-notebook-cell:/Users/chiaraschiller/Documents/Schapiro/projects/SignalStar/scripts/github/metadata_formatting/notebooks/palom.ipynb#W1sZmlsZQ%3D%3D?line=57'>58</a>\u001b[0m \u001b[39mreturn\u001b[39;00m \u001b[39m0\u001b[39m\n",
      "\u001b[0;31mIndexError\u001b[0m: list index out of range"
     ]
    }
   ],
   "source": [
    "run_palom_cycif(\n",
    "    img_paths = [\n",
    "        \"./../../../../data/Human_squamous_cell_carcinoma_stained_with_SignalStar_mIHC_technology/numpy_stacked_output_uint16.tif\"\n",
    "    ],\n",
    "    pixel_size = 0.49884663906387205,\n",
    "    channel_names = ['Alexa 488', 'Alexa 594', 'Alexa 647', 'Cy7', 'DAPI', 'Autofluorescence'],\n",
    "    output_path = r\"./../../../../data/Human_squamous_cell_carcinoma_stained_with_SignalStar_mIHC_technology/palom/mosaic.ome.tiff\",\n",
    "    level = 0\n",
    ")"
   ]
  }
 ],
 "metadata": {
  "kernelspec": {
   "display_name": "palom",
   "language": "python",
   "name": "python3"
  },
  "language_info": {
   "codemirror_mode": {
    "name": "ipython",
    "version": 3
   },
   "file_extension": ".py",
   "mimetype": "text/x-python",
   "name": "python",
   "nbconvert_exporter": "python",
   "pygments_lexer": "ipython3",
   "version": "3.10.14"
  }
 },
 "nbformat": 4,
 "nbformat_minor": 2
}
