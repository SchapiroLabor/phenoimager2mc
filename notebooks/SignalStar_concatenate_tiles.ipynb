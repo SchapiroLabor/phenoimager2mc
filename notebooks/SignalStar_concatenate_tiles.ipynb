{
 "cells": [
  {
   "cell_type": "code",
   "execution_count": 4,
   "metadata": {},
   "outputs": [],
   "source": [
    "from aicsimageio.writers import OmeTiffWriter\n",
    "from aicsimageio import aics_image as AI\n",
    "from aicsimageio import AICSImage, imread\n",
    "import dask\n",
    "import dask.array as da\n",
    "import os"
   ]
  },
  {
   "cell_type": "code",
   "execution_count": null,
   "metadata": {},
   "outputs": [],
   "source": [
    "# Paths to input and output directories\n",
    "input_dir = './../data/Human_squamous_cell_carcinoma_stained_with_SignalStar_mIHC_technology/test/'\n",
    "output_file = './../data/Human_squamous_cell_carcinoma_stained_with_SignalStar_mIHC_technology/stacked_output.ome.tiff'\n",
    "\n",
    "# Make list of all files with a \".tif\" extension in the input directory\n",
    "input_files = [os.path.join(input_dir, file) for file in os.listdir(input_dir) if file.endswith('.tif')]\n",
    "# Sort the list of files alphabetically\n",
    "input_files = sorted(input_files)\n",
    "\n",
    "# Load the first image to determine the shape\n",
    "first_img = AICSImage(input_files[0]).get_image_dask_data(\"CZYX\")\n",
    "\n",
    "# Number of tiles (one file per tile)\n",
    "num_tiles = len(input_files)\n",
    "# Number of channels in each tile (assumed to be the same for all tiles)\n",
    "num_channels = first_img.shape[0]\n",
    "\n",
    "# Initialize an empty dask array to hold all images\n",
    "# Shape: (Tiles, Channels, Z, Y, X)\n",
    "stack_shape = (num_channels, num_tiles, first_img.shape[1], first_img.shape[2], first_img.shape[3])\n",
    "out = da.empty(stack_shape, dtype=first_img.dtype)\n",
    "\n",
    "# Loop through each file and stack the images\n",
    "for idx, file in enumerate(input_files):\n",
    "    img = AICSImage(file).get_image_dask_data(\"CZYX\")\n",
    "    for channel in range(num_channels):\n",
    "        out[channel, idx] = img[channel]\n",
    "\n",
    "# Reshape the array to match the required order TCZYX (Tiles as time points)\n",
    "out = out.reshape((num_channels, num_tiles, first_img.shape[1], first_img.shape[2], first_img.shape[3]))\n",
    "\n",
    "# Save the stacked image using OmeTiffWriter\n",
    "OmeTiffWriter.save(out, output_file, dim_order=\"CTZYX\")\n",
    "\n",
    "print(f\"Stacked image saved to {output_file}\")\n"
   ]
  }
 ],
 "metadata": {
  "kernelspec": {
   "display_name": "ometiff",
   "language": "python",
   "name": "python3"
  },
  "language_info": {
   "codemirror_mode": {
    "name": "ipython",
    "version": 3
   },
   "file_extension": ".py",
   "mimetype": "text/x-python",
   "name": "python",
   "nbconvert_exporter": "python",
   "pygments_lexer": "ipython3",
   "version": "3.8.19"
  }
 },
 "nbformat": 4,
 "nbformat_minor": 2
}
