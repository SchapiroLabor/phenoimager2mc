{
 "cells": [
  {
   "cell_type": "code",
   "execution_count": 4,
   "metadata": {},
   "outputs": [],
   "source": [
    "from aicsimageio.writers import OmeTiffWriter\n",
    "from aicsimageio import aics_image as AI\n",
    "from aicsimageio import AICSImage, imread\n",
    "import dask\n",
    "import dask.array as da\n",
    "import os\n"
   ]
  },
  {
   "cell_type": "code",
   "execution_count": 5,
   "metadata": {},
   "outputs": [],
   "source": [
    "# Path to TIFF file\n",
    "tif_file_path = './../data/Human_squamous_cell_carcinoma_stained_with_SignalStar_mIHC_technology/test/SCC_T37C_T1_Scan1_[10838,39481]_component_data.tif'"
   ]
  },
  {
   "cell_type": "code",
   "execution_count": 6,
   "metadata": {},
   "outputs": [
    {
     "name": "stdout",
     "output_type": "stream",
     "text": [
      "Stacked image saved to ./../data/Human_squamous_cell_carcinoma_stained_with_SignalStar_mIHC_technology/stacked_output.ome.tiff\n"
     ]
    }
   ],
   "source": [
    "# this correctly stacks images per tile, no correct metadata\n",
    "\n",
    "# Paths to input and output directories\n",
    "input_dir = './../data/Human_squamous_cell_carcinoma_stained_with_SignalStar_mIHC_technology/test/'\n",
    "output_file = './../data/Human_squamous_cell_carcinoma_stained_with_SignalStar_mIHC_technology/stacked_output.ome.tiff'\n",
    "\n",
    "# Make list of all files with a \".tif\" extension in the input directory\n",
    "input_files = [os.path.join(input_dir, file) for file in os.listdir(input_dir) if file.endswith('.tif')]\n",
    "# Sort the list of files alphabetically\n",
    "input_files = sorted(input_files)\n",
    "\n",
    "# Load the first image to determine the shape\n",
    "first_img = AICSImage(input_files[0]).get_image_dask_data(\"CZYX\")\n",
    "\n",
    "# Number of tiles (one file per tile)\n",
    "num_tiles = len(input_files)\n",
    "# Number of channels in each tile (assumed to be the same for all tiles)\n",
    "num_channels = first_img.shape[0]\n",
    "\n",
    "# Initialize an empty dask array to hold all images\n",
    "# Shape: (Tiles, Channels, Z, Y, X)\n",
    "stack_shape = (num_tiles, num_channels, first_img.shape[1], first_img.shape[2], first_img.shape[3])\n",
    "out = da.empty(stack_shape, dtype=first_img.dtype)\n",
    "\n",
    "# Loop through each file and stack the images\n",
    "for idx, file in enumerate(input_files):\n",
    "    img = AICSImage(file).get_image_dask_data(\"CZYX\")\n",
    "    out[idx] = img\n",
    "\n",
    "# Reshape the array to match the required order TCZYX (Tiles as time points)\n",
    "out = out.reshape((num_tiles * num_channels, 1, first_img.shape[1], first_img.shape[2], first_img.shape[3]))\n",
    "\n",
    "# Save the stacked image using OmeTiffWriter\n",
    "OmeTiffWriter.save(out, output_file, dim_order=\"TCZYX\")\n",
    "\n",
    "print(f\"Stacked image saved to {output_file}\")\n"
   ]
  },
  {
   "cell_type": "code",
   "execution_count": 7,
   "metadata": {},
   "outputs": [
    {
     "name": "stdout",
     "output_type": "stream",
     "text": [
      "Stacked image saved to ./../data/Human_squamous_cell_carcinoma_stained_with_SignalStar_mIHC_technology/stacked_output.ome.tiff\n"
     ]
    }
   ],
   "source": [
    "#this incorrectly stacks images per channel, no correct metadata\n",
    "# Define the number of channels\n",
    "num_channels = 6\n",
    "\n",
    "# Paths to input and output directories\n",
    "input_dir = './../data/Human_squamous_cell_carcinoma_stained_with_SignalStar_mIHC_technology/test/'\n",
    "output_file = './../data/Human_squamous_cell_carcinoma_stained_with_SignalStar_mIHC_technology/stacked_output.ome.tiff'\n",
    "\n",
    "# Make list of all files with a \".tif\" extension in the input directory\n",
    "input_files = [os.path.join(input_dir, file) for file in os.listdir(input_dir) if file.endswith('.tif')]\n",
    "# Sort the list of files alphabetically\n",
    "input_files = sorted(input_files)\n",
    "\n",
    "# Load the first image to determine the shape\n",
    "first_img = AICSImage(input_files[0]).get_image_dask_data(\"CZYX\")\n",
    "\n",
    "# Initialize an empty dask array to hold all images\n",
    "stack_shape = (first_img.shape[0], len(input_files), first_img.shape[1], first_img.shape[2], first_img.shape[3])\n",
    "out = da.empty(stack_shape, dtype=first_img.dtype)\n",
    "\n",
    "# Loop through each file and stack the images along the channel axis\n",
    "for idx, file in enumerate(input_files):\n",
    "    img = AICSImage(file).get_image_dask_data(\"CZYX\")\n",
    "    out[:, idx] = img\n",
    "\n",
    "# Save the stacked image using OmeTiffWriter\n",
    "OmeTiffWriter.save(out, output_file, dim_order=\"TCZYX\")\n",
    "\n",
    "print(f\"Stacked image saved to {output_file}\")\n"
   ]
  }
 ],
 "metadata": {
  "kernelspec": {
   "display_name": "ometiff",
   "language": "python",
   "name": "python3"
  },
  "language_info": {
   "codemirror_mode": {
    "name": "ipython",
    "version": 3
   },
   "file_extension": ".py",
   "mimetype": "text/x-python",
   "name": "python",
   "nbconvert_exporter": "python",
   "pygments_lexer": "ipython3",
   "version": "3.8.19"
  }
 },
 "nbformat": 4,
 "nbformat_minor": 2
}
