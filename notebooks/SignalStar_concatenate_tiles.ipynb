{
 "cells": [
  {
   "cell_type": "code",
   "execution_count": 23,
   "metadata": {},
   "outputs": [],
   "source": [
    "#from aicsimageio.writers import OmeTiffWriter\n",
    "#from aicsimageio import aics_image as AI\n",
    "#from aicsimageio import AICSImage, imread, ome_tiff_writer\n",
    "#import dask\n",
    "#import dask.array as da\n",
    "import os\n",
    "import os\n",
    "import numpy as np\n",
    "import tifffile as tiff"
   ]
  },
  {
   "cell_type": "code",
   "execution_count": 20,
   "metadata": {},
   "outputs": [
    {
     "name": "stdout",
     "output_type": "stream",
     "text": [
      "Stacked image saved to ./../../../../data/Human_squamous_cell_carcinoma_stained_with_SignalStar_mIHC_technology/stacked_output.ome.tiff\n"
     ]
    }
   ],
   "source": [
    "### save with AICSImage -- not correct even though it looks correct in imagej\n",
    "\n",
    "# Paths to input and output directories\n",
    "input_dir = './../../../../data/Human_squamous_cell_carcinoma_stained_with_SignalStar_mIHC_technology/test/'\n",
    "output_file = './../../../../data/Human_squamous_cell_carcinoma_stained_with_SignalStar_mIHC_technology/stacked_output.ome.tiff'\n",
    "\n",
    "# Make list of all files with a \".tif\" extension in the input directory\n",
    "input_files = [os.path.join(input_dir, file) for file in os.listdir(input_dir) if file.endswith('.tif')]\n",
    "# Sort the list of files alphabetically\n",
    "input_files = sorted(input_files)\n",
    "\n",
    "# Load the first image to determine the shape\n",
    "first_img = AICSImage(input_files[0]).get_image_dask_data(\"CZYX\")\n",
    "\n",
    "# Number of tiles (one file per tile)\n",
    "num_tiles = len(input_files)\n",
    "# Number of channels in each tile (assumed to be the same for all tiles)\n",
    "num_channels = first_img.shape[0]\n",
    "\n",
    "# Initialize an empty dask array to hold all images\n",
    "# Shape: (Tiles, Channels, Z, Y, X)\n",
    "stack_shape = (num_channels, num_tiles, first_img.shape[1], first_img.shape[2], first_img.shape[3])\n",
    "out = da.empty(stack_shape, dtype=first_img.dtype)\n",
    "\n",
    "# Loop through each file and stack the images\n",
    "for idx, file in enumerate(input_files):\n",
    "    img = AICSImage(file).get_image_dask_data(\"CZYX\")\n",
    "    for channel in range(num_channels):\n",
    "        out[channel, idx] = img[channel]\n",
    "\n",
    "# Reshape the array to match the required order TCZYX (Tiles as time points)\n",
    "out = out.reshape((num_channels, num_tiles, first_img.shape[1], first_img.shape[2], first_img.shape[3]))\n",
    "\n",
    "# Save the stacked image using OmeTiffWriter\n",
    "OmeTiffWriter.save(out, output_file, dim_order=\"CTZYX\")\n",
    "\n",
    "print(f\"Stacked image saved to {output_file}\")\n"
   ]
  },
  {
   "cell_type": "code",
   "execution_count": 26,
   "metadata": {},
   "outputs": [
    {
     "name": "stdout",
     "output_type": "stream",
     "text": [
      "Stacked image saved to ./../../../../data/Human_squamous_cell_carcinoma_stained_with_SignalStar_mIHC_technology/numpy_stacked_output.tif\n"
     ]
    },
    {
     "name": "stderr",
     "output_type": "stream",
     "text": [
      "/var/folders/79/cjwcycvd2_9dyfffbym60x200000gn/T/ipykernel_14159/2789077634.py:31: DeprecationWarning: <tifffile.imsave> is deprecated. Use tifffile.imwrite\n",
      "  tiff.imsave(output_file, stacked_image)\n"
     ]
    }
   ],
   "source": [
    "# try to save as numpy array: WORKS\n",
    "\n",
    "# Paths to input and output directories\n",
    "input_dir = './../../../../data/Human_squamous_cell_carcinoma_stained_with_SignalStar_mIHC_technology/test/'\n",
    "output_file = './../../../../data/Human_squamous_cell_carcinoma_stained_with_SignalStar_mIHC_technology/numpy_stacked_output.tif'\n",
    "\n",
    "# Make list of all files with a \".tif\" extension in the input directory\n",
    "input_files = [os.path.join(input_dir, file) for file in os.listdir(input_dir) if file.endswith('.tif')]\n",
    "# Sort the list of files alphabetically\n",
    "input_files = sorted(input_files)\n",
    "\n",
    "# Load the first image to determine the shape\n",
    "first_img = np.asarray(tiff.imread(input_files[0]))\n",
    "\n",
    "# Number of tiles (one file per tile)\n",
    "num_tiles = len(input_files)\n",
    "# Number of channels in each tile (assumed to be the same for all tiles)\n",
    "num_channels = first_img.shape[0]\n",
    "\n",
    "# Initialize an empty numpy array to hold all images\n",
    "# Shape: (Tiles, Channels, Z, Y, X)\n",
    "stack_shape = (num_tiles, num_channels, first_img.shape[1], first_img.shape[2])\n",
    "stacked_image = np.empty(stack_shape, dtype=first_img.dtype)\n",
    "\n",
    "# Loop through each file and stack the images\n",
    "for idx, file in enumerate(input_files):\n",
    "    img = np.asarray(tiff.imread(file))\n",
    "    stacked_image[idx] = img\n",
    "\n",
    "# Save the stacked image as a TIFF file\n",
    "tiff.imsave(output_file, stacked_image)\n",
    "\n",
    "print(f\"Stacked image saved to {output_file}\")\n"
   ]
  },
  {
   "cell_type": "code",
   "execution_count": 27,
   "metadata": {},
   "outputs": [],
   "source": [
    "#convert the file to uint16\n",
    "\n",
    "# Read the float TIFF\n",
    "img = tiff.imread('./../../../../data/Human_squamous_cell_carcinoma_stained_with_SignalStar_mIHC_technology/numpy_stacked_output.tif')\n",
    "\n",
    "# Convert the image to uint16 (scale if necessary)\n",
    "img_uint16 = (img * 65535).astype(np.uint16)\n",
    "\n",
    "# Save the converted image\n",
    "tiff.imwrite('./../../../../data/Human_squamous_cell_carcinoma_stained_with_SignalStar_mIHC_technology/numpy_stacked_output_uint16.tif', img_uint16)"
   ]
  }
 ],
 "metadata": {
  "kernelspec": {
   "display_name": "ometiff",
   "language": "python",
   "name": "python3"
  },
  "language_info": {
   "codemirror_mode": {
    "name": "ipython",
    "version": 3
   },
   "file_extension": ".py",
   "mimetype": "text/x-python",
   "name": "python",
   "nbconvert_exporter": "python",
   "pygments_lexer": "ipython3",
   "version": "3.8.19"
  }
 },
 "nbformat": 4,
 "nbformat_minor": 2
}
